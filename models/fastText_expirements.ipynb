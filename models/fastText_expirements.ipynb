{
 "cells": [
  {
   "cell_type": "code",
   "execution_count": 2,
   "id": "81870a78",
   "metadata": {
    "ExecuteTime": {
     "end_time": "2021-06-16T19:02:32.496791Z",
     "start_time": "2021-06-16T19:02:32.437319Z"
    }
   },
   "outputs": [],
   "source": [
    "import pandas as pd\n",
    "import numpy as np\n",
    "from skift import FirstColFtClassifier\n",
    "import model_validation\n",
    "import itertools\n",
    "import collections"
   ]
  },
  {
   "cell_type": "markdown",
   "id": "52527d86",
   "metadata": {},
   "source": [
    "This is an expiremental notebook where you can specify a dataframe path and see how fastText performs on the dataset"
   ]
  },
  {
   "cell_type": "code",
   "execution_count": null,
   "id": "0370ed69",
   "metadata": {},
   "outputs": [],
   "source": [
    "DATA_PATH = '../data/aicoe-aiops.csv'\n",
    "\n",
    "df = pd.read_csv(DATA_PATH)"
   ]
  },
  {
   "cell_type": "code",
   "execution_count": null,
   "id": "97517c6e",
   "metadata": {},
   "outputs": [],
   "source": [
    "# preprocessing\n",
    "df = df.dropna()\n",
    "df['body'] = df['body'].apply(lambda x: x.replace('\\n', ' <N> ').replace('\\r', ' <R> '))\n",
    "df['input'] = df['title'] + ' <SEP> ' + df['body']"
   ]
  },
  {
   "cell_type": "code",
   "execution_count": null,
   "id": "7c08aece",
   "metadata": {},
   "outputs": [],
   "source": [
    "labels_lists = [labels.split('\\t') for labels in df['labels'].dropna()]\n",
    "all_items = list(itertools.chain.from_iterable(labels_lists))\n",
    "counter = collections.Counter(all_items)"
   ]
  },
  {
   "cell_type": "code",
   "execution_count": null,
   "id": "da471ea0",
   "metadata": {},
   "outputs": [],
   "source": [
    "# view most common issue labels\n",
    "n = 30\n",
    "counter.most_common(n)"
   ]
  },
  {
   "cell_type": "code",
   "execution_count": null,
   "id": "313c9eda",
   "metadata": {},
   "outputs": [],
   "source": [
    "# choose if you want to ignore any\n",
    "\n",
    "ignore_labels = ['bot', 'human_intervention_required']"
   ]
  },
  {
   "cell_type": "code",
   "execution_count": null,
   "id": "fb586fa6",
   "metadata": {},
   "outputs": [],
   "source": [
    "def constructor():\n",
    "    return FirstColFtClassifier(lr=0.3, epoch=10)"
   ]
  },
  {
   "cell_type": "code",
   "execution_count": null,
   "id": "656e89a8",
   "metadata": {},
   "outputs": [],
   "source": [
    "# evaluate and show results\n",
    "N = 2\n",
    "results = model_validation.predict_top_n(df, constructor, n = N, ignore_labels = ignore_labels)\n",
    "\n",
    "results"
   ]
  }
 ],
 "metadata": {
  "finalized": {
   "timestamp": 1623870836948,
   "trusted": true
  },
  "kernelspec": {
   "display_name": "Python 3",
   "language": "python",
   "name": "python3"
  },
  "language_info": {
   "codemirror_mode": {
    "name": "ipython",
    "version": 3
   },
   "file_extension": ".py",
   "mimetype": "text/x-python",
   "name": "python",
   "nbconvert_exporter": "python",
   "pygments_lexer": "ipython3",
   "version": "3.8.3"
  },
  "toc": {
   "base_numbering": 1,
   "nav_menu": {},
   "number_sections": true,
   "sideBar": true,
   "skip_h1_title": false,
   "title_cell": "Table of Contents",
   "title_sidebar": "Contents",
   "toc_cell": false,
   "toc_position": {},
   "toc_section_display": true,
   "toc_window_display": false
  }
 },
 "nbformat": 4,
 "nbformat_minor": 5
}
